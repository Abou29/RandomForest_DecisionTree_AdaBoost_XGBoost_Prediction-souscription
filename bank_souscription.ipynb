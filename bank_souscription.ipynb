{
 "cells": [
  {
   "attachments": {},
   "cell_type": "markdown",
   "metadata": {},
   "source": [
    "TABLE OF CONTENTS\n",
    "\n",
    "I -\n",
    "   - Problem / Data Set Information\n",
    "   - Importing Libraries\n",
    "   - Loading Data / Exploratory Data Analysis\n",
    "   - Correlation between Numeric Variable\n",
    "   - Relationship between categorical variables and target variable by using chi-square test\n",
    "   - Visualization\n",
    "   - Checking missing values in the Dataset\n",
    "   - Handling missing values\n",
    "   - Convert Categorical variables into Numerical\n",
    "\n",
    "II -  Random forest\n",
    "   - Train Test Split\n",
    "   - Feature Scaling \n",
    "   - Entrainement du modèle\n",
    "   - Evaluation du modele\n",
    "   - Evaluation avec d'autres métriques\n",
    "   - Matrice de confusion\n",
    "   - Tracé de l'importance des features\n",
    "\n",
    "III -  Decision tree\n",
    "   - Entrainement du modèle\n",
    "   - Evaluation du modele\n",
    "   - Evaluation avec d'autres métriques\n",
    "   - Matrice de confusion\n",
    "   - Tracé de l'importance des features\n",
    "   - Comparaison des performances"
   ]
  },
  {
   "cell_type": "markdown",
   "metadata": {},
   "source": []
  },
  {
   "attachments": {},
   "cell_type": "markdown",
   "metadata": {},
   "source": [
    "# I - "
   ]
  },
  {
   "attachments": {},
   "cell_type": "markdown",
   "metadata": {},
   "source": [
    "### Problem / Data Set Information"
   ]
  },
  {
   "attachments": {},
   "cell_type": "markdown",
   "metadata": {},
   "source": [
    "# Prédire la souscription d'un client à un service bancaire avec naive bayes et avec svm (support vector machine)\n",
    "Les données sont liées aux campagnes de marketing d'une institution bancaire portugaise. Ces campagnes de marketing étaient basées sur des appels téléphoniques. Souvent, plusieurs contacts avec le même client étaient nécessaires pour savoir si le client va souscrire ou non à un service bancaire. \n",
    "\n",
    "L'objectif de la classification est de prédire si le client va souscrire (yes/no) à un service bancaire.\n",
    "\n",
    "Les variables explicatives sont :\n",
    "\n",
    "- age : age du client \n",
    "- job : type de job du client (categorical: 'admin.','blue-collar','entrepreneur','housemaid','management','retired','self-employed','services','student','technician','unemployed','unknown')\n",
    "- marital : état matrimonial\n",
    "- education : niveau d'études (categorical: 'basic.4y','basic.6y','basic.9y','high.school','illiterate','professional.course','university.degree','unknown')\n",
    "- default : has credit in default? (categorical: 'no','yes','unknown')\n",
    "- balance : \n",
    "- housing : a un prêt au logement ? (categorical: 'no','yes','unknown') \n",
    "- loan : a un prêt personnel ? (categorical: 'no','yes','unknown') \n",
    "- contact : type de communication de contact (categorical: 'cellular','telephone')\n",
    "- day : dernier jour de contact de la semaine (categorical: 'mon','tue','wed','thu','fri')   \n",
    "- month : last contact month of year (categorical: 'jan', 'feb', 'mar', ..., 'nov', 'dec')\n",
    "- duration : durée du dernier contact, en secondes (numérique) \n",
    "- campaign : number of contacts performed during this campaign and for this client (numeric, includes last contact)\n",
    "- pdays : number of days that passed by after the client was last contacted from a previous campaign (numeric; 999 means client was not previously contacted)\n",
    "- previous : number of contacts performed before this campaign and for this client (numeric)\n",
    "- poutcome : outcome of the previous marketing campaign (categorical: 'failure','nonexistent','success')\n",
    "\n",
    "La variable de sortie : \n",
    "- **y : le client a-t-il souscrit a un service bancaire**"
   ]
  },
  {
   "attachments": {},
   "cell_type": "markdown",
   "metadata": {},
   "source": [
    "### Importing Libraries"
   ]
  },
  {
   "cell_type": "code",
   "execution_count": 1,
   "metadata": {},
   "outputs": [],
   "source": [
    "# Data Manipulation\n",
    "import pandas as pd\n",
    "import numpy as np\n",
    "import category_encoders as ce\n",
    "\n",
    "# Plot\n",
    "import matplotlib.pyplot as plt\n",
    "import seaborn as sns\n",
    "\n",
    "# Machine Learning\n",
    "from sklearn.ensemble import RandomForestClassifier \n",
    "from sklearn.tree import DecisionTreeClassifier\n",
    "from sklearn.model_selection import GridSearchCV\n",
    "from sklearn.model_selection import train_test_split, cross_val_score\n",
    "from sklearn.metrics import confusion_matrix\n",
    "from sklearn.metrics import  accuracy_score, f1_score, precision_score,confusion_matrix, recall_score, roc_auc_score\n",
    "from sklearn.inspection import permutation_importance\n",
    "\n",
    "# Stats\n",
    "from scipy import stats\n",
    "from scipy.stats import chi2_contingency\n",
    "\n",
    "# Others\n",
    "import warnings  \n",
    "warnings.filterwarnings('ignore')"
   ]
  },
  {
   "cell_type": "markdown",
   "metadata": {},
   "source": [
    "### Loading Data / Exploratory Data Analysis"
   ]
  },
  {
   "cell_type": "code",
   "execution_count": null,
   "metadata": {},
   "outputs": [],
   "source": []
  }
 ],
 "metadata": {
  "kernelspec": {
   "display_name": "Python 3",
   "language": "python",
   "name": "python3"
  },
  "language_info": {
   "codemirror_mode": {
    "name": "ipython",
    "version": 3
   },
   "file_extension": ".py",
   "mimetype": "text/x-python",
   "name": "python",
   "nbconvert_exporter": "python",
   "pygments_lexer": "ipython3",
   "version": "3.11.1"
  },
  "orig_nbformat": 4,
  "vscode": {
   "interpreter": {
    "hash": "e2de187e2ac018b1966125b89a9965710f2e135e980700bc64d2907d990fa000"
   }
  }
 },
 "nbformat": 4,
 "nbformat_minor": 2
}
